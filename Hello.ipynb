{
 "cells": [
  {
   "cell_type": "code",
   "execution_count": 3,
   "id": "b66c9437",
   "metadata": {},
   "outputs": [
    {
     "name": "stdout",
     "output_type": "stream",
     "text": [
      "Hello\n"
     ]
    }
   ],
   "source": [
    "print(\"Hello\")"
   ]
  },
  {
   "cell_type": "code",
   "execution_count": 4,
   "id": "a7a60671",
   "metadata": {},
   "outputs": [],
   "source": [
    "myVar = \"Hello\"\n",
    "my_Var = \"Hello\"\n",
    "_myVar = \"Hello\"\n",
    "_my_Var = \"Hello\""
   ]
  },
  {
   "cell_type": "code",
   "execution_count": 5,
   "id": "d0cf2e29",
   "metadata": {},
   "outputs": [
    {
     "name": "stdout",
     "output_type": "stream",
     "text": [
      "Hello\n",
      "Hello\n",
      "Hello\n",
      "Hello\n"
     ]
    }
   ],
   "source": [
    "print(myVar)\n",
    "print(my_Var)\n",
    "print(_myVar)\n",
    "print(_my_Var)"
   ]
  },
  {
   "cell_type": "code",
   "execution_count": 7,
   "id": "dad83f1d",
   "metadata": {},
   "outputs": [
    {
     "name": "stdout",
     "output_type": "stream",
     "text": [
      "10\n"
     ]
    }
   ],
   "source": [
    "def hello():\n",
    "    a=10\n",
    "    print(a)\n",
    "    return\n",
    "hello()"
   ]
  },
  {
   "cell_type": "code",
   "execution_count": 8,
   "id": "c7d03e7d",
   "metadata": {},
   "outputs": [
    {
     "name": "stdout",
     "output_type": "stream",
     "text": [
      "I am Global\n",
      "I am Local\n"
     ]
    }
   ],
   "source": [
    "a = \"I am Global\"\n",
    "def hello():\n",
    "    a = \"I am Local\"\n",
    "    print(a)\n",
    "    return\n",
    "\n",
    "print(a)\n",
    "hello()"
   ]
  },
  {
   "cell_type": "code",
   "execution_count": null,
   "id": "46b9eb16",
   "metadata": {},
   "outputs": [],
   "source": [
    "x=5\n",
    "x=x+3\n",
    "y=10\n",
    "y=y*3\n",
    "z=\"Hello\"\n",
    "a=\"What?\"\n",
    "print(x+y)\n",
    "print(z+\", \"+a)\n",
    "print(y != z)"
   ]
  },
  {
   "cell_type": "code",
   "execution_count": null,
   "id": "615c81e3",
   "metadata": {},
   "outputs": [],
   "source": [
    "print(x>6 and x<100)\n",
    "print(x>6 or x<100)\n",
    "print(not(x>6 and x<100))"
   ]
  },
  {
   "cell_type": "code",
   "execution_count": null,
   "id": "ca76cf9b",
   "metadata": {},
   "outputs": [],
   "source": [
    "x=int(input(\"Enter the value of x : \"))\n",
    "y=int(input(\"Enter the value of y : \"))\n",
    "z=x*y\n",
    "print(z)"
   ]
  },
  {
   "cell_type": "code",
   "execution_count": null,
   "id": "d1deed77",
   "metadata": {},
   "outputs": [],
   "source": [
    "x = \"Akshay\"\n",
    "x.lower()\n",
    "x.upper()\n"
   ]
  },
  {
   "cell_type": "code",
   "execution_count": null,
   "id": "4139e6d6",
   "metadata": {},
   "outputs": [],
   "source": [
    "x = \"i am a title\"\n",
    "x.title()"
   ]
  },
  {
   "cell_type": "code",
   "execution_count": null,
   "id": "07c6037d",
   "metadata": {},
   "outputs": [],
   "source": [
    "x = \"   remove spaces     \"\n",
    "x.lstrip()\n",
    "x.rstrip()\n",
    "x.strip()"
   ]
  },
  {
   "cell_type": "code",
   "execution_count": null,
   "id": "031462d9",
   "metadata": {},
   "outputs": [],
   "source": [
    "# way 1 : default\n",
    "string1 = \"{} {} {}\".format(\"python\", \"programming\", \"language\")\n",
    "# way 2 : index\n",
    "string2 = \"{1} {0} {2}\".format(\"python\", \"programming\", \"language\")\n",
    "# way 3 : position\n",
    "string3 = \"{c} {b} {a}\".format(a=\"python\", b=\"programming\", c=\"language\")\n",
    "print(string1)\n",
    "print(string2)\n",
    "print(string3)"
   ]
  },
  {
   "cell_type": "code",
   "execution_count": null,
   "id": "4bf46477",
   "metadata": {},
   "outputs": [],
   "source": [
    "name = \"Akshay\"\n",
    "course = \"code unnati program\"\n",
    "print(f\"Hello, my name is {name} and i registed for {course}.\")"
   ]
  },
  {
   "cell_type": "code",
   "execution_count": null,
   "id": "3216422a",
   "metadata": {},
   "outputs": [],
   "source": [
    "str1 = \"Akshay\"\n",
    "print(str1)\n",
    "str1[0]"
   ]
  },
  {
   "cell_type": "code",
   "execution_count": null,
   "id": "7572af18",
   "metadata": {},
   "outputs": [],
   "source": [
    "str1[2]"
   ]
  },
  {
   "cell_type": "code",
   "execution_count": null,
   "id": "d7077dbe",
   "metadata": {},
   "outputs": [],
   "source": [
    "str1[0:2]"
   ]
  },
  {
   "cell_type": "code",
   "execution_count": null,
   "id": "4512812a",
   "metadata": {},
   "outputs": [],
   "source": [
    "str1[-1]"
   ]
  },
  {
   "cell_type": "code",
   "execution_count": null,
   "id": "d11377b1",
   "metadata": {},
   "outputs": [],
   "source": [
    "str1[-3:-1]"
   ]
  },
  {
   "cell_type": "code",
   "execution_count": null,
   "id": "10ca48d0",
   "metadata": {},
   "outputs": [],
   "source": [
    "list1 = [\"Akshay\", 20, \"surat\", 395006]\n",
    "print(list1)\n",
    "print(type(list1))\n",
    "len(list1)"
   ]
  },
  {
   "cell_type": "code",
   "execution_count": null,
   "id": "afeb8620",
   "metadata": {},
   "outputs": [],
   "source": [
    "print(list1[0])\n",
    "print(list1[0:])\n",
    "print(list1[0:3])\n",
    "print(list1[0::2])\n",
    "print(list1[0::3])"
   ]
  },
  {
   "cell_type": "code",
   "execution_count": null,
   "id": "c64fea1a",
   "metadata": {},
   "outputs": [],
   "source": [
    "print(list1[0][0])\n",
    "print(list1[0][0:])\n",
    "print(list1[0][0:4])\n",
    "print(list1[0][0::2])"
   ]
  },
  {
   "cell_type": "code",
   "execution_count": null,
   "id": "92cf1c13",
   "metadata": {},
   "outputs": [],
   "source": [
    "fruits = ['banana', 'apple', 'orange']\n",
    "print(fruits)\n",
    "fruits.append(\"cherry\")\n",
    "print(fruits)"
   ]
  },
  {
   "cell_type": "code",
   "execution_count": null,
   "id": "015cd2ac",
   "metadata": {},
   "outputs": [],
   "source": [
    "fruits = ['banana', 'apple', 'orange']\n",
    "car = ['BMW', 'volvo', 'tata']\n",
    "fruits.extend(car)\n",
    "print(fruits)"
   ]
  },
  {
   "cell_type": "code",
   "execution_count": null,
   "id": "dafbe63f",
   "metadata": {},
   "outputs": [],
   "source": [
    "fruits = ['banana', 'apple', 'orange']\n",
    "fruits.insert(1,\"cherry\")\n",
    "print(fruits)\n",
    "\n",
    "fruits.pop()\n",
    "print(fruits)\n",
    "\n",
    "fruits.pop(1)\n",
    "print(fruits)"
   ]
  },
  {
   "cell_type": "code",
   "execution_count": null,
   "id": "b9c79b13",
   "metadata": {},
   "outputs": [],
   "source": [
    "fruits1 = ['banana', 'apple', 'orange', 'cherry']\n",
    "fruits1.remove(\"banana\")\n",
    "print(fruits1)\n",
    "\n",
    "fruits2 = ['banana', 'apple', 'banana', 'orange', 'cherry']\n",
    "fruits2.remove(\"banana\")\n",
    "print(fruits2)"
   ]
  },
  {
   "cell_type": "code",
   "execution_count": null,
   "id": "08b43bf4",
   "metadata": {},
   "outputs": [],
   "source": [
    "str1 = \"I am split method\"\n",
    "print(str1)\n",
    "str1.split()\n"
   ]
  },
  {
   "cell_type": "code",
   "execution_count": null,
   "id": "35f4ec73",
   "metadata": {},
   "outputs": [],
   "source": [
    "tup1 = ('Akshay', 20, 'surat', 395006)\n",
    "print(tup1)\n",
    "print(type(tup1))\n",
    "\n",
    "print(tup1[2])\n",
    "\n",
    "print(tup1[0:2])"
   ]
  },
  {
   "cell_type": "code",
   "execution_count": null,
   "id": "9f1e6e0a",
   "metadata": {},
   "outputs": [],
   "source": [
    "tup1 = ('banana', 'apple', 'orange', 'cherry')\n",
    "tup2 = ('BMW', 'volvo', 'tata')\n",
    "\n",
    "tup3 = tup1 + tup2\n",
    "print(tup3)\n",
    "\n",
    "tup3 = tup2 + tup1\n",
    "print(tup3)\n",
    "\n",
    "tup3 = tup1*2\n",
    "print(tup3)\n",
    "\n",
    "# specific element in tuple can't delete\n",
    "# del tup3[2]\n",
    "\n",
    "# Whole tuple can be delete\n",
    "del tup3\n"
   ]
  },
  {
   "cell_type": "code",
   "execution_count": null,
   "id": "c0c35832",
   "metadata": {},
   "outputs": [],
   "source": [
    "numbers = (1, 3, 5, 32, 4, 5, 4, 6, 43, 65, 4, 65, 34, 45)\n",
    "\n",
    "x = numbers.count(4)\n",
    "print(x)\n",
    "\n",
    "y = numbers.index(4)\n",
    "print(y)"
   ]
  },
  {
   "cell_type": "code",
   "execution_count": null,
   "id": "314687f7",
   "metadata": {},
   "outputs": [],
   "source": [
    "car = {\n",
    "    \"brand\" : \"Mahindra\",\n",
    "    \"model\" : \"Thar\",\n",
    "    \"year\" : 2010\n",
    "}\n",
    "print(car)\n",
    "print(type(car))\n",
    "\n",
    "print(car[\"model\"])\n",
    "print(car.keys())\n",
    "print(car.values())\n",
    "print(car.items())\n",
    "car.update({\"year\": 2012})\n",
    "print(car)\n",
    "\n",
    "car[\"color\"] = \"black\"\n",
    "print(car)\n",
    "\n"
   ]
  },
  {
   "cell_type": "code",
   "execution_count": null,
   "id": "bec4de24",
   "metadata": {},
   "outputs": [],
   "source": [
    "car = {\n",
    "    \"brand\" : \"Mahindra\",\n",
    "    \"model\" : \"Thar\",\n",
    "    \"year\" : 2010,\n",
    "    \"color\" : \"balck\"\n",
    "}\n",
    "print(car)\n",
    "\n",
    "car.pop(\"model\")\n",
    "print(car)"
   ]
  },
  {
   "cell_type": "code",
   "execution_count": null,
   "id": "0429411c",
   "metadata": {},
   "outputs": [],
   "source": [
    "subject1 = {'Physics', 'Hindi', 'English', 'Hindi', 'Physics', 'Hindi'}\n",
    "subject2 = {'Physics', 'Chemistry', 'English', 'Hindi', 'Physics', 'Hindi'}\n",
    "print(subject1)\n",
    "print(subject2)\n",
    "\n",
    "print(type(subject1))\n",
    "print(type(subject2))\n",
    "\n",
    "print(subject1 | subject2)\n",
    "print(subject1.union(subject2))\n",
    "\n",
    "print(subject1.intersection(subject2))"
   ]
  },
  {
   "cell_type": "code",
   "execution_count": null,
   "id": "d20c83a3",
   "metadata": {},
   "outputs": [],
   "source": [
    "fruits = ['apple', 'banana', 'cherry']\n",
    "print(len(fruits))\n",
    "print(len(fruits[0]))"
   ]
  },
  {
   "cell_type": "code",
   "execution_count": null,
   "id": "ca25526d",
   "metadata": {},
   "outputs": [],
   "source": [
    "theater = {\n",
    "    \"Movie\": \"Pusshpa\",\n",
    "    \"Actor\": \"Allu Arjun\",\n",
    "    \"Year\": 2023\n",
    "}\n",
    "sorted(theater)"
   ]
  },
  {
   "cell_type": "code",
   "execution_count": null,
   "id": "d406183b",
   "metadata": {},
   "outputs": [],
   "source": [
    "numbers = (1, 3, 5, 32, 4, 5, 4, 6, 43, 65, 4, 65, 34, 45)\n",
    "\n",
    "print(max(numbers))\n",
    "print(min(numbers))\n",
    "print(sum(numbers))"
   ]
  },
  {
   "cell_type": "code",
   "execution_count": null,
   "id": "8e419b0c",
   "metadata": {},
   "outputs": [],
   "source": [
    "dir(list)"
   ]
  },
  {
   "cell_type": "code",
   "execution_count": null,
   "id": "aa581915",
   "metadata": {},
   "outputs": [],
   "source": [
    "dir(str)"
   ]
  },
  {
   "cell_type": "code",
   "execution_count": null,
   "id": "5afe1892",
   "metadata": {},
   "outputs": [],
   "source": [
    "n = 10\n",
    "print(type(n))\n",
    "print(n)\n",
    "\n",
    "n = float(n)\n",
    "print(type(n))\n",
    "print(n)\n",
    "\n",
    "n = str(n)\n",
    "print(type(n))\n",
    "print(n)"
   ]
  },
  {
   "cell_type": "code",
   "execution_count": 1,
   "id": "0e692a40",
   "metadata": {},
   "outputs": [
    {
     "name": "stdout",
     "output_type": "stream",
     "text": [
      "['apple', 'banana', 'orange', 'grape', 'mango']\n",
      "mango\n",
      "['apple', 'banana', 'orange']\n",
      "['apple', 'banana', 'pear', 'grape', 'mango']\n",
      "yes\n",
      "['apple', 'banana', 'pear', 'grape']\n",
      "['apple', 'pear', 'grape']\n",
      "['apple', 'pear', 'grape', 'watermelon', 'kiwi']\n",
      "['apple', 'grape', 'kiwi', 'pear', 'watermelon']\n"
     ]
    },
    {
     "data": {
      "text/plain": [
       "1"
      ]
     },
     "execution_count": 1,
     "metadata": {},
     "output_type": "execute_result"
    }
   ],
   "source": [
    "fruits_list = []\n",
    "fruits_list.append(\"apple\")\n",
    "fruits_list.append(\"banana\")\n",
    "fruits_list.append(\"orange\")\n",
    "fruits_list.append(\"grape\")\n",
    "fruits_list.append(\"mango\")\n",
    "print(fruits_list)\n",
    "\n",
    "print(fruits_list[-1])\n",
    "print(fruits_list[0:3])\n",
    "\n",
    "fruits_list[2]=\"pear\"\n",
    "print(fruits_list)\n",
    "\n",
    "if 'apple' in fruits_list:\n",
    "    print(\"yes\")\n",
    "    \n",
    "fruits_list.pop()\n",
    "print(fruits_list)\n",
    "fruits_list.remove(\"banana\")\n",
    "print(fruits_list)\n",
    "\n",
    "additional_fruits = [\"watermelon\", \"kiwi\"]\n",
    "\n",
    "fruits_list.extend(additional_fruits)\n",
    "print(fruits_list)\n",
    "\n",
    "print(sorted(fruits_list))\n",
    "\n",
    "fruits_list.count(\"kiwi\")\n"
   ]
  },
  {
   "cell_type": "code",
   "execution_count": 2,
   "id": "456ddf79",
   "metadata": {},
   "outputs": [
    {
     "name": "stdout",
     "output_type": "stream",
     "text": [
      "12\n"
     ]
    }
   ],
   "source": [
    "def add_number(num1,num2):\n",
    "    result = num1+num2\n",
    "    return result\n",
    "print(add_number(5,7))"
   ]
  },
  {
   "cell_type": "code",
   "execution_count": 6,
   "id": "7e942626",
   "metadata": {},
   "outputs": [
    {
     "name": "stdout",
     "output_type": "stream",
     "text": [
      "number is posituve\n",
      " the statement is easy\n"
     ]
    }
   ],
   "source": [
    "number =10\n",
    "\n",
    "\n",
    "if number>0:\n",
    "    print(\"number is posituve\")\n",
    "\n",
    "print(\" the statement is easy\")\n",
    "\n",
    "    \n"
   ]
  },
  {
   "cell_type": "code",
   "execution_count": 9,
   "id": "fa587e34",
   "metadata": {},
   "outputs": [
    {
     "name": "stdout",
     "output_type": "stream",
     "text": [
      "number is positive\n",
      "the statement is always excuted\n"
     ]
    }
   ],
   "source": [
    "number=10\n",
    "\n",
    "if number>0:\n",
    "    print('number is positive')\n",
    "else:\n",
    "    print('number is nagative') \n",
    "\n",
    "print('the statement is always excuted')   "
   ]
  },
  {
   "cell_type": "code",
   "execution_count": 4,
   "id": "92a516e5",
   "metadata": {},
   "outputs": [
    {
     "name": "stdout",
     "output_type": "stream",
     "text": [
      "number is positive\n",
      "the number is alwaye excuted\n"
     ]
    }
   ],
   "source": [
    "number =int(input(\"enter NUmber\"))\n",
    "\n",
    "if(number>0):\n",
    "    print('number is positive')\n",
    "elif number == 0:\n",
    "    print('zero')\n",
    "else:\n",
    "    print('number is nagative')\n",
    "\n",
    "print('the number is alwaye excuted')\n",
    "\n"
   ]
  },
  {
   "cell_type": "code",
   "execution_count": 5,
   "id": "df6a85bf",
   "metadata": {},
   "outputs": [
    {
     "name": "stdout",
     "output_type": "stream",
     "text": [
      "hellow world\n",
      "hellow world\n",
      "hellow world\n"
     ]
    }
   ],
   "source": [
    "counter =0\n",
    "\n",
    "while counter < 3:\n",
    "    print('hellow world')\n",
    "    counter = counter +1"
   ]
  },
  {
   "cell_type": "code",
   "execution_count": 6,
   "id": "a5f4a651",
   "metadata": {},
   "outputs": [
    {
     "name": "stdout",
     "output_type": "stream",
     "text": [
      "0\n",
      "1\n",
      "2\n",
      "3\n",
      "4\n",
      "5\n",
      "6\n"
     ]
    }
   ],
   "source": [
    "for i in range(7):\n",
    "    print(i)"
   ]
  },
  {
   "cell_type": "code",
   "execution_count": 7,
   "id": "808c004f",
   "metadata": {},
   "outputs": [
    {
     "name": "stdout",
     "output_type": "stream",
     "text": [
      "34\n",
      "32\n",
      "30\n",
      "28\n",
      "26\n",
      "24\n",
      "22\n",
      "20\n",
      "18\n",
      "16\n",
      "14\n",
      "12\n"
     ]
    }
   ],
   "source": [
    "for i in range(34,10,-2):\n",
    "    print(i)\n",
    "    \n"
   ]
  },
  {
   "cell_type": "code",
   "execution_count": 10,
   "id": "30f5d0ad",
   "metadata": {},
   "outputs": [
    {
     "name": "stdout",
     "output_type": "stream",
     "text": [
      "p\n",
      "y\n",
      "t\n",
      "h\n",
      "o\n",
      "n\n"
     ]
    }
   ],
   "source": [
    "for letter in \"python\":\n",
    "    print(letter)"
   ]
  },
  {
   "cell_type": "code",
   "execution_count": 13,
   "id": "21687730",
   "metadata": {},
   "outputs": [
    {
     "name": "stdout",
     "output_type": "stream",
     "text": [
      "apple\n",
      "kivi\n",
      "banana\n"
     ]
    }
   ],
   "source": [
    "fruits =['apple', 'kivi', 'banana']\n",
    "for fruit in fruits:\n",
    "    print(fruit)\n",
    " \n",
    "    "
   ]
  },
  {
   "cell_type": "code",
   "execution_count": 14,
   "id": "ad39588a",
   "metadata": {},
   "outputs": [
    {
     "name": "stdout",
     "output_type": "stream",
     "text": [
      "1\n",
      "2\n",
      "3\n",
      "4\n"
     ]
    }
   ],
   "source": [
    "i=1\n",
    "while i< 9:\n",
    "    print(i)\n",
    "    if i==4:\n",
    "        break\n",
    "    i +=1"
   ]
  },
  {
   "cell_type": "code",
   "execution_count": 15,
   "id": "dc272805",
   "metadata": {},
   "outputs": [
    {
     "name": "stdout",
     "output_type": "stream",
     "text": [
      "1\n",
      "2\n",
      "3\n",
      "5\n",
      "6\n",
      "7\n",
      "8\n",
      "9\n",
      "10\n"
     ]
    }
   ],
   "source": [
    "i=0\n",
    "while i<10:\n",
    "    i +=1\n",
    "    if i==4:\n",
    "        continue\n",
    "    print(i)\n"
   ]
  },
  {
   "cell_type": "code",
   "execution_count": 29,
   "id": "682cea72",
   "metadata": {},
   "outputs": [
    {
     "ename": "TypeError",
     "evalue": "can't multiply sequence by non-int of type 'float'",
     "output_type": "error",
     "traceback": [
      "\u001b[1;31m---------------------------------------------------------------------------\u001b[0m",
      "\u001b[1;31mTypeError\u001b[0m                                 Traceback (most recent call last)",
      "Cell \u001b[1;32mIn[29], line 16\u001b[0m\n\u001b[0;32m     14\u001b[0m items_list\u001b[38;5;241m=\u001b[39m[\u001b[38;5;124m\"\u001b[39m\u001b[38;5;124mapple\u001b[39m\u001b[38;5;124m\"\u001b[39m,\u001b[38;5;124m\"\u001b[39m\u001b[38;5;124mmilk\u001b[39m\u001b[38;5;124m\"\u001b[39m, \u001b[38;5;124m\"\u001b[39m\u001b[38;5;124mbanana\u001b[39m\u001b[38;5;124m\"\u001b[39m, \u001b[38;5;124m\"\u001b[39m\u001b[38;5;124mbread\u001b[39m\u001b[38;5;124m\"\u001b[39m]\n\u001b[0;32m     15\u001b[0m price_list \u001b[38;5;241m=\u001b[39m[\u001b[38;5;241m1.2\u001b[39m,\u001b[38;5;241m0.6\u001b[39m,\u001b[38;5;241m3.2\u001b[39m,\u001b[38;5;241m0.7\u001b[39m]\n\u001b[1;32m---> 16\u001b[0m total_bill_amount \u001b[38;5;241m=\u001b[39m\u001b[43mcalculate_total_bill\u001b[49m\u001b[43m(\u001b[49m\u001b[43mitems_list\u001b[49m\u001b[43m,\u001b[49m\u001b[43mprice_list\u001b[49m\u001b[43m)\u001b[49m\n\u001b[0;32m     17\u001b[0m \u001b[38;5;28mprint\u001b[39m(\u001b[38;5;124m\"\u001b[39m\u001b[38;5;124mtotal bill:\u001b[39m\u001b[38;5;124m\"\u001b[39m,total_bill_amount)\n",
      "Cell \u001b[1;32mIn[29], line 8\u001b[0m, in \u001b[0;36mcalculate_total_bill\u001b[1;34m(items, prices)\u001b[0m\n\u001b[0;32m      5\u001b[0m total_bill\u001b[38;5;241m=\u001b[39m\u001b[38;5;241m0\u001b[39m\n\u001b[0;32m      7\u001b[0m \u001b[38;5;28;01mfor\u001b[39;00m p \u001b[38;5;129;01min\u001b[39;00m prices:\n\u001b[1;32m----> 8\u001b[0m     discount_items \u001b[38;5;241m=\u001b[39m\u001b[43mprice_list\u001b[49m\u001b[38;5;241;43m*\u001b[39;49m\u001b[38;5;241;43m0.1\u001b[39;49m\n\u001b[0;32m     10\u001b[0m     total_bill \u001b[38;5;241m=\u001b[39m p\u001b[38;5;241m+\u001b[39mtotal_bill\n\u001b[0;32m     12\u001b[0m \u001b[38;5;28;01mreturn\u001b[39;00m total_bill\n",
      "\u001b[1;31mTypeError\u001b[0m: can't multiply sequence by non-int of type 'float'"
     ]
    }
   ],
   "source": [
    "def calculate_total_bill(items,prices):\n",
    "\n",
    "    if len(items) !=len(prices):\n",
    "        return \"error: the nuimber of item and prices should be the same.\"\n",
    "    total_bill=0\n",
    "    \n",
    "    for p in prices:\n",
    "        discount_items =price_list*0.1\n",
    "        \n",
    "        total_bill = p+total_bill\n",
    "\n",
    "    return total_bill\n",
    "    \n",
    "items_list=[\"apple\",\"milk\", \"banana\", \"bread\"]\n",
    "price_list =[1.2,0.6,3.2,0.7]\n",
    "total_bill_amount =calculate_total_bill(items_list,price_list)\n",
    "print(\"total bill:\",total_bill_amount)\n"
   ]
  },
  {
   "cell_type": "code",
   "execution_count": null,
   "id": "f0da7275",
   "metadata": {},
   "outputs": [],
   "source": [
    "def calculate_discounted_bill( original_prices, discount_ item):\n",
    "    discount_bill=0\n",
    "    for i in range(len(original_prices)):\n",
    "        id discount_items[i]:\n"
   ]
  },
  {
   "cell_type": "code",
   "execution_count": 31,
   "id": "63d346e2",
   "metadata": {},
   "outputs": [
    {
     "name": "stdout",
     "output_type": "stream",
     "text": [
      "15\n"
     ]
    }
   ],
   "source": [
    "x = lambda a:a+10\n",
    "print(x(5))"
   ]
  },
  {
   "cell_type": "code",
   "execution_count": 32,
   "id": "2e067c5d",
   "metadata": {},
   "outputs": [
    {
     "name": "stdout",
     "output_type": "stream",
     "text": [
      "30\n"
     ]
    }
   ],
   "source": [
    "x =lambda a, b: a*b\n",
    "print(x(5,6))"
   ]
  },
  {
   "cell_type": "code",
   "execution_count": 33,
   "id": "f7ba2759",
   "metadata": {},
   "outputs": [],
   "source": [
    "try:\n",
    "    numerator =int(input(\"enter a number:\"))\n",
    "except ValueError:\n",
    "    print()\n"
   ]
  },
  {
   "cell_type": "code",
   "execution_count": null,
   "id": "143d3969",
   "metadata": {},
   "outputs": [],
   "source": []
  }
 ],
 "metadata": {
  "kernelspec": {
   "display_name": "Python 3 (ipykernel)",
   "language": "python",
   "name": "python3"
  },
  "language_info": {
   "codemirror_mode": {
    "name": "ipython",
    "version": 3
   },
   "file_extension": ".py",
   "mimetype": "text/x-python",
   "name": "python",
   "nbconvert_exporter": "python",
   "pygments_lexer": "ipython3",
   "version": "3.12.1"
  }
 },
 "nbformat": 4,
 "nbformat_minor": 5
}
