{
 "cells": [
  {
   "cell_type": "code",
   "execution_count": 3,
   "metadata": {},
   "outputs": [
    {
     "name": "stdout",
     "output_type": "stream",
     "text": [
      "2.0.3\n",
      "1.24.3\n"
     ]
    }
   ],
   "source": [
    "import pandas as pd\n",
    "import numpy as np\n",
    "print(pd.__version__)\n",
    "print(np.__version__)"
   ]
  },
  {
   "cell_type": "code",
   "execution_count": 6,
   "metadata": {},
   "outputs": [
    {
     "name": "stdout",
     "output_type": "stream",
     "text": [
      "Series([], dtype: object)\n",
      "0    g\n",
      "1    e\n",
      "2    e\n",
      "3    k\n",
      "4    s\n",
      "dtype: object\n"
     ]
    }
   ],
   "source": [
    "ser = pd.Series()\n",
    "print(ser)\n",
    "\n",
    "data = np.array(['g', 'e', 'e', 'k', 's'])\n",
    "ser = pd.Series(data)\n",
    "print(ser)"
   ]
  },
  {
   "cell_type": "code",
   "execution_count": 7,
   "metadata": {},
   "outputs": [
    {
     "name": "stdout",
     "output_type": "stream",
     "text": [
      "0     BMW\n",
      "1    TATA\n",
      "2    AUDI\n",
      "dtype: object\n"
     ]
    }
   ],
   "source": [
    "list_car = ['BMW', 'TATA', 'AUDI']\n",
    "ser = pd.Series(list_car)\n",
    "print(ser)"
   ]
  },
  {
   "cell_type": "code",
   "execution_count": 8,
   "metadata": {},
   "outputs": [
    {
     "name": "stdout",
     "output_type": "stream",
     "text": [
      "TATA\n"
     ]
    }
   ],
   "source": [
    "list_car = ['BMW', 'TATA', 'AUDI']\n",
    "ser = pd.Series(list_car)\n",
    "print(ser[1])"
   ]
  },
  {
   "cell_type": "code",
   "execution_count": null,
   "metadata": {},
   "outputs": [],
   "source": [
    "list_car = ['BMW', 'TATA', 'AUDI']\n",
    "ser = pd.Series(list_car)\n",
    "print(ser)"
   ]
  },
  {
   "cell_type": "code",
   "execution_count": 9,
   "metadata": {},
   "outputs": [
    {
     "name": "stdout",
     "output_type": "stream",
     "text": [
      "        Time.Month    Time.Year  Statistics.# of Delays.Carrier  \\\n",
      "count  4408.000000  4408.000000                     4408.000000   \n",
      "mean      6.578947  2009.243421                      574.632486   \n",
      "std       3.457890     3.667475                      329.616475   \n",
      "min       1.000000  2003.000000                      112.000000   \n",
      "25%       4.000000  2006.000000                      358.000000   \n",
      "50%       7.000000  2009.000000                      476.000000   \n",
      "75%      10.000000  2012.000000                      692.000000   \n",
      "max      12.000000  2016.000000                     3087.000000   \n",
      "\n",
      "       Statistics.# of Delays.Late Aircraft  \\\n",
      "count                           4408.000000   \n",
      "mean                             789.078947   \n",
      "std                              561.798420   \n",
      "min                               86.000000   \n",
      "25%                              425.000000   \n",
      "50%                              618.500000   \n",
      "75%                              959.000000   \n",
      "max                             4483.000000   \n",
      "\n",
      "       Statistics.# of Delays.National Aviation System  \\\n",
      "count                                      4408.000000   \n",
      "mean                                        954.580309   \n",
      "std                                         921.907801   \n",
      "min                                          61.000000   \n",
      "25%                                         399.000000   \n",
      "50%                                         667.500000   \n",
      "75%                                        1166.000000   \n",
      "max                                        9066.000000   \n",
      "\n",
      "       Statistics.# of Delays.Security  Statistics.# of Delays.Weather  \\\n",
      "count                      4408.000000                     4408.000000   \n",
      "mean                          5.575544                       78.216878   \n",
      "std                           6.007046                       75.181726   \n",
      "min                          -1.000000                        1.000000   \n",
      "25%                           2.000000                       33.000000   \n",
      "50%                           4.000000                       58.000000   \n",
      "75%                           7.000000                       98.000000   \n",
      "max                          94.000000                      812.000000   \n",
      "\n",
      "       Statistics.Carriers.Total  Statistics.Flights.Cancelled  \\\n",
      "count                4408.000000                   4408.000000   \n",
      "mean                   12.253403                    213.558076   \n",
      "std                     2.289861                    288.873477   \n",
      "min                     3.000000                      3.000000   \n",
      "25%                    11.000000                     58.000000   \n",
      "50%                    12.000000                    123.000000   \n",
      "75%                    14.000000                    250.000000   \n",
      "max                    18.000000                   3680.000000   \n",
      "\n",
      "       Statistics.Flights.Delayed  Statistics.Flights.Diverted  \\\n",
      "count                 4408.000000                  4408.000000   \n",
      "mean                  2402.000454                    27.880898   \n",
      "std                   1710.947613                    36.356399   \n",
      "min                    283.000000                     0.000000   \n",
      "25%                   1298.750000                     8.000000   \n",
      "50%                   1899.000000                    15.000000   \n",
      "75%                   2950.000000                    32.000000   \n",
      "max                  13699.000000                   442.000000   \n",
      "\n",
      "       Statistics.Flights.On Time  Statistics.Flights.Total  \\\n",
      "count                 4408.000000               4408.000000   \n",
      "mean                  9254.420826              11897.860254   \n",
      "std                   5337.214211               6861.691876   \n",
      "min                   2003.000000               2533.000000   \n",
      "25%                   5708.750000               7400.000000   \n",
      "50%                   7477.000000               9739.500000   \n",
      "75%                  10991.500000              13842.500000   \n",
      "max                  31468.000000              38241.000000   \n",
      "\n",
      "       Statistics.Minutes Delayed.Carrier  \\\n",
      "count                         4408.000000   \n",
      "mean                         35021.369782   \n",
      "std                          24327.721037   \n",
      "min                           6016.000000   \n",
      "25%                          19530.750000   \n",
      "50%                          27782.000000   \n",
      "75%                          41606.000000   \n",
      "max                         220796.000000   \n",
      "\n",
      "       Statistics.Minutes Delayed.Late Aircraft  \\\n",
      "count                               4408.000000   \n",
      "mean                               49410.274955   \n",
      "std                                38750.017050   \n",
      "min                                 5121.000000   \n",
      "25%                                25084.250000   \n",
      "50%                                37483.000000   \n",
      "75%                                59951.250000   \n",
      "max                               345456.000000   \n",
      "\n",
      "       Statistics.Minutes Delayed.National Aviation System  \\\n",
      "count                                        4408.000000     \n",
      "mean                                        45077.107985     \n",
      "std                                         57636.745683     \n",
      "min                                          2183.000000     \n",
      "25%                                         14389.000000     \n",
      "50%                                         25762.000000     \n",
      "75%                                         50362.000000     \n",
      "max                                        602479.000000     \n",
      "\n",
      "       Statistics.Minutes Delayed.Security  Statistics.Minutes Delayed.Total  \\\n",
      "count                          4408.000000                       4408.000000   \n",
      "mean                            211.769737                     135997.535163   \n",
      "std                             257.174789                     113972.276370   \n",
      "min                               0.000000                      14752.000000   \n",
      "25%                              65.000000                      65444.750000   \n",
      "50%                             141.000000                     100711.000000   \n",
      "75%                             274.000000                     164294.750000   \n",
      "max                            4949.000000                     989367.000000   \n",
      "\n",
      "       Statistics.Minutes Delayed.Weather  \n",
      "count                         4408.000000  \n",
      "mean                          6276.982759  \n",
      "std                           6477.417169  \n",
      "min                             46.000000  \n",
      "25%                           2310.750000  \n",
      "50%                           4298.500000  \n",
      "75%                           7846.000000  \n",
      "max                          76770.000000  \n"
     ]
    }
   ],
   "source": [
    "data = pd.read_csv(\"airlines.csv\")\n",
    "print(data.describe())"
   ]
  },
  {
   "cell_type": "code",
   "execution_count": 11,
   "metadata": {},
   "outputs": [
    {
     "name": "stdout",
     "output_type": "stream",
     "text": [
      "         0\n",
      "0   Akshay\n",
      "1    Harsh\n",
      "2    Sahaj\n",
      "3  Darshit\n",
      "4    Mitul\n",
      "Akshay\n"
     ]
    }
   ],
   "source": [
    "list2 = ['Akshay', 'Harsh', 'Sahaj', 'Darshit', 'Mitul']\n",
    "df = pd.DataFrame(list2)\n",
    "print(df)\n",
    "print(df[0][0])\n"
   ]
  },
  {
   "cell_type": "code",
   "execution_count": 16,
   "metadata": {},
   "outputs": [
    {
     "name": "stdout",
     "output_type": "stream",
     "text": [
      "      Name  Age\n",
      "0   Akshay   20\n",
      "1    Harsh   50\n",
      "2    Sahaj   30\n",
      "3  Darshit   10\n",
      "4    Mitul  500\n"
     ]
    }
   ],
   "source": [
    "data = {\n",
    "    'Name' : ['Akshay', 'Harsh', 'Sahaj', 'Darshit', 'Mitul'],\n",
    "    'Age' : [20, 50, 30, 10, 500]\n",
    "}\n",
    "df = pd.DataFrame(data)\n",
    "print(df)"
   ]
  },
  {
   "cell_type": "code",
   "execution_count": 20,
   "metadata": {},
   "outputs": [
    {
     "name": "stdout",
     "output_type": "stream",
     "text": [
      "            Name  Age    Salary\n",
      "Hello     Akshay   20  99999999\n",
      "Nothing    Harsh   50    200000\n",
      "What       Sahaj   30   9388284\n",
      "Who      Darshit   10   4893002\n",
      "Why        Mitul  500    843939\n"
     ]
    }
   ],
   "source": [
    "data = pd.DataFrame({\n",
    "    'Name' : ['Akshay', 'Harsh', 'Sahaj', 'Darshit', 'Mitul'],\n",
    "    'Age' : [20, 50, 30, 10, 500],\n",
    "    'Salary' : [99999999, 200000, 9388284, 4893002, 843939 ]},\n",
    "    index = [\"Hello\", \"Nothing\", \"What\", \"Who\", \"Why\"]\n",
    ")\n",
    "print(data)"
   ]
  },
  {
   "cell_type": "code",
   "execution_count": 24,
   "metadata": {},
   "outputs": [
    {
     "data": {
      "text/html": [
       "<div>\n",
       "<style scoped>\n",
       "    .dataframe tbody tr th:only-of-type {\n",
       "        vertical-align: middle;\n",
       "    }\n",
       "\n",
       "    .dataframe tbody tr th {\n",
       "        vertical-align: top;\n",
       "    }\n",
       "\n",
       "    .dataframe thead th {\n",
       "        text-align: right;\n",
       "    }\n",
       "</style>\n",
       "<table border=\"1\" class=\"dataframe\">\n",
       "  <thead>\n",
       "    <tr style=\"text-align: right;\">\n",
       "      <th></th>\n",
       "      <th>Name</th>\n",
       "      <th>Age</th>\n",
       "      <th>Salary</th>\n",
       "    </tr>\n",
       "  </thead>\n",
       "  <tbody>\n",
       "    <tr>\n",
       "      <th>A</th>\n",
       "      <td>NaN</td>\n",
       "      <td>NaN</td>\n",
       "      <td>NaN</td>\n",
       "    </tr>\n",
       "    <tr>\n",
       "      <th>B</th>\n",
       "      <td>NaN</td>\n",
       "      <td>NaN</td>\n",
       "      <td>NaN</td>\n",
       "    </tr>\n",
       "    <tr>\n",
       "      <th>C</th>\n",
       "      <td>NaN</td>\n",
       "      <td>NaN</td>\n",
       "      <td>NaN</td>\n",
       "    </tr>\n",
       "    <tr>\n",
       "      <th>D</th>\n",
       "      <td>NaN</td>\n",
       "      <td>NaN</td>\n",
       "      <td>NaN</td>\n",
       "    </tr>\n",
       "    <tr>\n",
       "      <th>E</th>\n",
       "      <td>NaN</td>\n",
       "      <td>NaN</td>\n",
       "      <td>NaN</td>\n",
       "    </tr>\n",
       "  </tbody>\n",
       "</table>\n",
       "</div>"
      ],
      "text/plain": [
       "  Name  Age  Salary\n",
       "A  NaN  NaN     NaN\n",
       "B  NaN  NaN     NaN\n",
       "C  NaN  NaN     NaN\n",
       "D  NaN  NaN     NaN\n",
       "E  NaN  NaN     NaN"
      ]
     },
     "execution_count": 24,
     "metadata": {},
     "output_type": "execute_result"
    }
   ],
   "source": [
    "data.reindex(['A', 'B', 'C', 'D', 'E'])"
   ]
  },
  {
   "cell_type": "code",
   "execution_count": 26,
   "metadata": {},
   "outputs": [
    {
     "name": "stdout",
     "output_type": "stream",
     "text": [
      "  Name  Age  Salary\n",
      "A  NaN  NaN     NaN\n",
      "B  NaN  NaN     NaN\n",
      "C  NaN  NaN     NaN\n",
      "D  NaN  NaN     NaN\n",
      "E  NaN  NaN     NaN\n"
     ]
    }
   ],
   "source": [
    "data1 = data.reindex(['A', 'B', 'C', 'D', 'E'])\n",
    "print(data1)"
   ]
  },
  {
   "cell_type": "code",
   "execution_count": 32,
   "metadata": {},
   "outputs": [
    {
     "name": "stdout",
     "output_type": "stream",
     "text": [
      "   Name    Age  Salary\n",
      "AB  100  100.0   100.0\n",
      "BC  100  100.0   100.0\n",
      "CD  100  100.0   100.0\n",
      "DE  100  100.0   100.0\n",
      "EF  100  100.0   100.0\n"
     ]
    }
   ],
   "source": [
    "data2 = data1.reindex(['AB', 'BC', 'CD', 'DE', 'EF'], fill_value=100)\n",
    "print(data2)"
   ]
  },
  {
   "cell_type": "code",
   "execution_count": 39,
   "metadata": {},
   "outputs": [
    {
     "name": "stdout",
     "output_type": "stream",
     "text": [
      "       col1      col2      col3\n",
      "3 -1.179799 -1.442270  1.379160\n",
      "6 -0.172308  0.221572  0.414815\n",
      "5  0.538292  0.743426 -0.202213\n",
      "4 -0.262007  0.383573 -1.030382\n",
      "7  0.598001  0.876607 -0.453098\n",
      "9 -0.216294  0.784727 -1.066706\n",
      "8 -0.197479  0.667623  1.412536\n",
      "2 -1.694602 -0.659798 -0.182372\n",
      "1 -1.357993  1.148171 -0.432001\n",
      "0  3.020592 -1.926834  0.247395\n",
      "       col1      col2      col3\n",
      "0  3.020592 -1.926834  0.247395\n",
      "1 -1.357993  1.148171 -0.432001\n",
      "2 -1.694602 -0.659798 -0.182372\n",
      "3 -1.179799 -1.442270  1.379160\n",
      "4 -0.262007  0.383573 -1.030382\n",
      "5  0.538292  0.743426 -0.202213\n",
      "6 -0.172308  0.221572  0.414815\n",
      "7  0.598001  0.876607 -0.453098\n",
      "8 -0.197479  0.667623  1.412536\n",
      "9 -0.216294  0.784727 -1.066706\n"
     ]
    }
   ],
   "source": [
    "unsorted_df = pd.DataFrame(np.random.randn(10,3), index=[3,6,5,4,7,9,8,2,1,0], columns=['col1', 'col2', 'col3'])\n",
    "print(unsorted_df)\n",
    "sorted_df = unsorted_df.sort_index()\n",
    "print(sorted_df)"
   ]
  },
  {
   "cell_type": "code",
   "execution_count": 42,
   "metadata": {},
   "outputs": [
    {
     "name": "stdout",
     "output_type": "stream",
     "text": [
      "       col2      col1      col3\n",
      "3 -0.189253 -1.188208  1.005897\n",
      "6  2.419778  2.511056  0.517948\n",
      "5 -1.711851  1.231678 -0.024473\n",
      "4  0.028393  0.868784  2.350112\n",
      "7 -0.159178  0.779106 -1.744612\n",
      "9  0.673927 -0.723076  0.990865\n",
      "8  0.949644 -0.867053  0.961047\n",
      "2  0.570010 -0.058410 -1.092931\n",
      "1 -1.380313 -0.630164  0.988445\n",
      "0 -0.230915  1.557145 -1.324545\n",
      "       col1      col2      col3\n",
      "3 -1.188208 -0.189253  1.005897\n",
      "6  2.511056  2.419778  0.517948\n",
      "5  1.231678 -1.711851 -0.024473\n",
      "4  0.868784  0.028393  2.350112\n",
      "7  0.779106 -0.159178 -1.744612\n",
      "9 -0.723076  0.673927  0.990865\n",
      "8 -0.867053  0.949644  0.961047\n",
      "2 -0.058410  0.570010 -1.092931\n",
      "1 -0.630164 -1.380313  0.988445\n",
      "0  1.557145 -0.230915 -1.324545\n"
     ]
    }
   ],
   "source": [
    "unsorted_df = pd.DataFrame(np.random.randn(10,3), index=[3,6,5,4,7,9,8,2,1,0], columns=['col2', 'col1', 'col3'])\n",
    "print(unsorted_df)\n",
    "sorted_df = unsorted_df.sort_index(axis=1)\n",
    "print(sorted_df)"
   ]
  },
  {
   "cell_type": "code",
   "execution_count": 41,
   "metadata": {},
   "outputs": [
    {
     "name": "stdout",
     "output_type": "stream",
     "text": [
      "       col1      col2      col3\n",
      "3 -0.484896  0.455109  0.120980\n",
      "6 -0.283800  0.578395  0.310730\n",
      "5 -0.160327 -1.615671  0.129050\n",
      "4 -0.268548  1.356291  1.216693\n",
      "7 -0.841012 -0.283366 -0.382317\n",
      "9  0.570176  2.271677  0.034852\n",
      "8 -0.634876  0.499496 -1.346014\n",
      "2 -0.050101 -0.577253  0.035047\n",
      "1 -0.882574 -1.174080 -0.670533\n",
      "0 -1.434159  0.755598 -0.045465\n",
      "       col1      col2      col3\n",
      "0 -1.434159  0.755598 -0.045465\n",
      "1 -0.882574 -1.174080 -0.670533\n",
      "2 -0.050101 -0.577253  0.035047\n",
      "3 -0.484896  0.455109  0.120980\n",
      "4 -0.268548  1.356291  1.216693\n",
      "5 -0.160327 -1.615671  0.129050\n",
      "6 -0.283800  0.578395  0.310730\n",
      "7 -0.841012 -0.283366 -0.382317\n",
      "8 -0.634876  0.499496 -1.346014\n",
      "9  0.570176  2.271677  0.034852\n"
     ]
    }
   ],
   "source": [
    "unsorted_df = pd.DataFrame(np.random.randn(10,3), index=[3,6,5,4,7,9,8,2,1,0], columns=['col1', 'col2', 'col3'])\n",
    "print(unsorted_df)\n",
    "sorted_df = unsorted_df.sort_index(axis=0)\n",
    "print(sorted_df)"
   ]
  },
  {
   "cell_type": "code",
   "execution_count": 44,
   "metadata": {},
   "outputs": [
    {
     "name": "stdout",
     "output_type": "stream",
     "text": [
      "   col1  col2\n",
      "0     2     1\n",
      "1     1     2\n",
      "2     1     3\n",
      "3     1     4\n",
      "   col1  col2\n",
      "1     1     2\n",
      "2     1     3\n",
      "3     1     4\n",
      "0     2     1\n"
     ]
    }
   ],
   "source": [
    "unsorted_df = pd.DataFrame({'col1' : [2,1,1,1], 'col2' : [1,2,3,4]})\n",
    "print(unsorted_df)\n",
    "sorted_df = unsorted_df.sort_values(by='col1')\n",
    "print(sorted_df)"
   ]
  },
  {
   "cell_type": "code",
   "execution_count": 45,
   "metadata": {},
   "outputs": [
    {
     "name": "stdout",
     "output_type": "stream",
     "text": [
      "   col1  col2\n",
      "0     2     1\n",
      "1     1     2\n",
      "2     1     3\n",
      "3     1     4\n",
      "   col1  col2\n",
      "0     2     1\n",
      "1     1     2\n",
      "2     1     3\n",
      "3     1     4\n"
     ]
    }
   ],
   "source": [
    "unsorted_df = pd.DataFrame({'col1' : [2,1,1,1], 'col2' : [1,2,3,4]})\n",
    "print(unsorted_df)\n",
    "sorted_df = unsorted_df.sort_values(by='col2')\n",
    "print(sorted_df)"
   ]
  },
  {
   "cell_type": "code",
   "execution_count": 50,
   "metadata": {},
   "outputs": [
    {
     "name": "stdout",
     "output_type": "stream",
     "text": [
      "0     akshay\n",
      "1      harsh\n",
      "2      sahaj\n",
      "3    darshit\n",
      "4      mitul\n",
      "dtype: object\n",
      "0     AKSHAY\n",
      "1      HARSH\n",
      "2      SAHAJ\n",
      "3    DARSHIT\n",
      "4      MITUL\n",
      "dtype: object\n"
     ]
    }
   ],
   "source": [
    "s = pd.Series(['Akshay', 'Harsh', 'Sahaj', 'Darshit', 'Mitul'])\n",
    "print(s.str.lower())\n",
    "print(s.str.upper())"
   ]
  },
  {
   "cell_type": "code",
   "execution_count": 65,
   "metadata": {},
   "outputs": [
    {
     "name": "stdout",
     "output_type": "stream",
     "text": [
      "DataFrame = \n",
      "    Maths  Science  English  Computer\n",
      "0   10.0     12.0     23.0        76\n",
      "1    NaN     43.0      NaN        87\n",
      "2   35.0     65.0     65.0        98\n",
      "3   54.0      NaN     76.0        65\n",
      "4   55.0     76.0     87.0        67\n",
      "\n",
      "Sum = \n",
      " Maths       154.0\n",
      "Science     196.0\n",
      "English     251.0\n",
      "Computer    393.0\n",
      "dtype: float64\n",
      "\n",
      "count= \n",
      " Maths       4\n",
      "Science     4\n",
      "English     4\n",
      "Computer    5\n",
      "dtype: int64\n",
      "\n",
      "max= \n",
      " Maths       55.0\n",
      "Science     76.0\n",
      "English     87.0\n",
      "Computer    98.0\n",
      "dtype: float64\n",
      "\n",
      "min= \n",
      " Maths       10.0\n",
      "Science     12.0\n",
      "English     23.0\n",
      "Computer    65.0\n",
      "dtype: float64\n",
      "\n"
     ]
    }
   ],
   "source": [
    "data = {\n",
    "    'Maths' : [10, None, 35, 54, 55],\n",
    "    'Science' : [12, 43, 65, None, 76],\n",
    "    'English' : [23, None, 65, 76, 87],\n",
    "    'Computer' : [76, 87, 98, 65, 67]\n",
    "}\n",
    "\n",
    "df = pd.DataFrame(data)\n",
    "print('DataFrame = \\n', df)\n",
    "print()\n",
    "\n",
    "print('Sum = \\n', df.sum())\n",
    "print()\n",
    "\n",
    "print('count= \\n', df.count())\n",
    "print()\n",
    "\n",
    "print('max= \\n', df.max())\n",
    "print()\n",
    "\n",
    "print('min= \\n', df.min())\n",
    "print()\n",
    "\n"
   ]
  }
 ],
 "metadata": {
  "kernelspec": {
   "display_name": "base",
   "language": "python",
   "name": "python3"
  },
  "language_info": {
   "codemirror_mode": {
    "name": "ipython",
    "version": 3
   },
   "file_extension": ".py",
   "mimetype": "text/x-python",
   "name": "python",
   "nbconvert_exporter": "python",
   "pygments_lexer": "ipython3",
   "version": "3.11.5"
  }
 },
 "nbformat": 4,
 "nbformat_minor": 2
}
